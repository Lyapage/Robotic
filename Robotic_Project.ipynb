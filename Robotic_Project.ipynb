{
 "cells": [
  {
   "cell_type": "markdown",
   "metadata": {},
   "source": [
    "# Appendix \n",
    "## Pyrhon code for algebra calculation\n",
    "### Peiji Tang & David Phelps"
   ]
  },
  {
   "cell_type": "code",
   "execution_count": 228,
   "metadata": {
    "collapsed": true
   },
   "outputs": [],
   "source": [
    "import sympy    #using sympy library to symbols calculation\n",
    "sympy.init_printing()    #turn on Latex to express the answer more clearly\n",
    "from sympy.matrices import Matrix, eye, zeros, ones, diag, GramSchmidt\n",
    "from sympy.utilities.lambdify import lambdify #numerical implementation of algebra function"
   ]
  },
  {
   "cell_type": "code",
   "execution_count": 229,
   "metadata": {
    "collapsed": false
   },
   "outputs": [],
   "source": [
    "#variables for computing\n",
    "(tau_phi,tau_theta,tau_psi,I_xx,I_yy,I_zz,omega_x,omega_y,omega_z,phi,theta,psi) = sympy.symbols('tau_phi tau_theta \\\n",
    "tau_psi I_xx I_yy \\ I_zz omega_x omega_y omega_z phi theta psi')\n",
    "\n",
    "#variables for input\n",
    "(Omega_1,Omega_2,Omega_3,Omega_4,g,m,k_d,x,y,z,l,k,b) = sympy.symbols('Omega_1 Omega_2 Omega_3 Omega_4 g m k_d x y z l k b')\n",
    "\n",
    "(xdot,ydot,zdot)=sympy.symbols('xdot ydot zdot')"
   ]
  },
  {
   "cell_type": "code",
   "execution_count": 230,
   "metadata": {
    "collapsed": true
   },
   "outputs": [],
   "source": [
    "def hat(x):\n",
    "    return Matrix([[0,-x[2],x[1]],[x[2],0,-x[0]],[-x[1],x[0],0]])"
   ]
  },
  {
   "cell_type": "code",
   "execution_count": 231,
   "metadata": {
    "collapsed": false
   },
   "outputs": [
    {
     "data": {
      "image/png": "[encoded data removed]",
      "text/latex": [
       "$$\\left[\\begin{matrix}\\frac{1}{I_{xx}} \\left(-  I_{zz} \\omega_{y} \\omega_{z} + I_{yy} \\omega_{y} \\omega_{z} + \\tau_{\\phi}\\right)\\\\\\frac{1}{I_{yy}} \\left( I_{zz} \\omega_{x} \\omega_{z} - I_{xx} \\omega_{x} \\omega_{z} + \\tau_{\\theta}\\right)\\\\\\frac{1}{ I_{zz}} \\left(I_{xx} \\omega_{x} \\omega_{y} - I_{yy} \\omega_{x} \\omega_{y} + \\tau_{\\psi}\\right)\\end{matrix}\\right]$$"
      ],
      "text/plain": [
       "⎡- I_zz⋅ω_y⋅ω_z + I_yy⋅ω_y⋅ω_z + τᵩ⎤\n",
       "⎢──────────────────────────────────⎥\n",
       "⎢               Iₓₓ                ⎥\n",
       "⎢                                  ⎥\n",
       "⎢ I_zz⋅ωₓ⋅ω_z - Iₓₓ⋅ωₓ⋅ω_z + τₜₕₑₜₐ⎥\n",
       "⎢──────────────────────────────────⎥\n",
       "⎢               I_yy               ⎥\n",
       "⎢                                  ⎥\n",
       "⎢ Iₓₓ⋅ωₓ⋅ω_y - I_yy⋅ωₓ⋅ω_y + τₚₛᵢ  ⎥\n",
       "⎢ ───────────────────────────────  ⎥\n",
       "⎣               I_zz               ⎦"
      ]
     },
     "execution_count": 231,
     "metadata": {},
     "output_type": "execute_result"
    }
   ],
   "source": [
    "#inertia matrix:\n",
    "In_Ma = Matrix([[I_xx,0,0],[0,I_yy,0],[0,0,I_zz]])\n",
    "#torque:\n",
    "Tau = Matrix([[tau_phi],[tau_theta],[tau_psi]])\n",
    "#angular velocity:\n",
    "Omega=Matrix([[omega_x],[omega_y],[omega_z]])\n",
    "\n",
    "#angular acceleration:\n",
    "dot_Omega = In_Ma.inv('LU')*( Tau - hat(Omega)*(In_Ma *Omega) )\n",
    "\n",
    "dot_Omega"
   ]
  },
  {
   "cell_type": "code",
   "execution_count": 232,
   "metadata": {
    "collapsed": false
   },
   "outputs": [
    {
     "data": {
      "image/png": "[encoded data removed]",
      "text/latex": [
       "$$\\left[\\begin{matrix}1 & 0 & - \\sin{\\left (\\theta \\right )}\\\\0 & \\cos{\\left (\\phi \\right )} & \\sin{\\left (\\phi \\right )} \\cos{\\left (\\theta \\right )}\\\\0 & - \\sin{\\left (\\phi \\right )} & \\cos{\\left (\\phi \\right )} \\cos{\\left (\\theta \\right )}\\end{matrix}\\right]$$"
      ],
      "text/plain": [
       "⎡1     0        -sin(θ)   ⎤\n",
       "⎢                         ⎥\n",
       "⎢0  cos(φ)   sin(φ)⋅cos(θ)⎥\n",
       "⎢                         ⎥\n",
       "⎣0  -sin(φ)  cos(φ)⋅cos(θ)⎦"
      ]
     },
     "execution_count": 232,
     "metadata": {},
     "output_type": "execute_result"
    }
   ],
   "source": [
    "# conversion matrix from derivativesi of euler angles to angular velocity\n",
    "C = Matrix([[1,0,-sympy.sin(theta)],[0,sympy.cos(phi),\\\n",
    "sympy.cos(theta)*sympy.sin(phi)],[0,-sympy.sin(phi),sympy.cos(theta)*sympy.cos(phi)]])\n",
    "C"
   ]
  },
  {
   "cell_type": "code",
   "execution_count": 233,
   "metadata": {
    "collapsed": false
   },
   "outputs": [
    {
     "data": {
      "image/png": "[encoded data removed]",
      "text/latex": [
       "$$\\left[\\begin{matrix}0\\\\0\\\\k \\left(\\Omega_{1}^{2} + \\Omega_{2}^{2} + \\Omega_{3}^{2} + \\Omega_{4}^{2}\\right)\\end{matrix}\\right]$$"
      ],
      "text/plain": [
       "⎡            0            ⎤\n",
       "⎢                         ⎥\n",
       "⎢            0            ⎥\n",
       "⎢                         ⎥\n",
       "⎢  ⎛  2     2     2     2⎞⎥\n",
       "⎣k⋅⎝Ω₁  + Ω₂  + Ω₃  + Ω₄ ⎠⎦"
      ]
     },
     "execution_count": 233,
     "metadata": {},
     "output_type": "execute_result"
    }
   ],
   "source": [
    "# thrust under body-fixed-frame\n",
    "T_b = k*Matrix([[0],[0],[(Omega_1)**2+(Omega_2)**2+(Omega_3)**2\\\n",
    "                      +(Omega_4)**2]]) \n",
    "T_b"
   ]
  },
  {
   "cell_type": "code",
   "execution_count": 234,
   "metadata": {
    "collapsed": false
   },
   "outputs": [
    {
     "data": {
      "image/png": "[encoded data removed]",
      "text/latex": [
       "$$\\left[\\begin{matrix}- \\sin{\\left (\\phi \\right )} \\sin{\\left (\\psi \\right )} \\cos{\\left (\\theta \\right )} + \\cos{\\left (\\phi \\right )} \\cos{\\left (\\psi \\right )} & - \\sin{\\left (\\phi \\right )} \\cos{\\left (\\psi \\right )} - \\sin{\\left (\\psi \\right )} \\cos{\\left (\\phi \\right )} \\cos{\\left (\\theta \\right )} & \\sin{\\left (\\psi \\right )} \\sin{\\left (\\theta \\right )}\\\\\\sin{\\left (\\phi \\right )} \\cos{\\left (\\psi \\right )} \\cos{\\left (\\theta \\right )} + \\sin{\\left (\\psi \\right )} \\cos{\\left (\\phi \\right )} & - \\sin{\\left (\\phi \\right )} \\sin{\\left (\\psi \\right )} + \\cos{\\left (\\phi \\right )} \\cos{\\left (\\psi \\right )} \\cos{\\left (\\theta \\right )} & - \\sin{\\left (\\theta \\right )} \\cos{\\left (\\psi \\right )}\\\\\\sin{\\left (\\phi \\right )} \\sin{\\left (\\theta \\right )} & \\sin{\\left (\\theta \\right )} \\cos{\\left (\\phi \\right )} & \\cos{\\left (\\theta \\right )}\\end{matrix}\\right]$$"
      ],
      "text/plain": [
       "⎡-sin(φ)⋅sin(ψ)⋅cos(θ) + cos(φ)⋅cos(ψ)  -sin(φ)⋅cos(ψ) - sin(ψ)⋅cos(φ)⋅cos(θ) \n",
       "⎢                                                                             \n",
       "⎢sin(φ)⋅cos(ψ)⋅cos(θ) + sin(ψ)⋅cos(φ)   -sin(φ)⋅sin(ψ) + cos(φ)⋅cos(ψ)⋅cos(θ) \n",
       "⎢                                                                             \n",
       "⎣            sin(φ)⋅sin(θ)                          sin(θ)⋅cos(φ)             \n",
       "\n",
       " sin(ψ)⋅sin(θ) ⎤\n",
       "               ⎥\n",
       " -sin(θ)⋅cos(ψ)⎥\n",
       "               ⎥\n",
       "     cos(θ)    ⎦"
      ]
     },
     "execution_count": 234,
     "metadata": {},
     "output_type": "execute_result"
    }
   ],
   "source": [
    "# constructing rotation matrix (3-1-3)\n",
    "R = zeros(3,3)\n",
    "R[0,0] = sympy.cos(phi)*sympy.cos(psi)-sympy.cos(theta)*\\\n",
    "sympy.sin(phi)*sympy.sin(psi)\n",
    "R[0,1] = -sympy.cos(psi)*sympy.sin(phi)-sympy.cos(phi)*\\\n",
    "sympy.cos(theta)*sympy.sin(psi)\n",
    "R[0,2] = sympy.sin(theta)*sympy.sin(psi)\n",
    "R[1,0] = sympy.cos(theta)*sympy.cos(psi)*sympy.sin(phi)+\\\n",
    "sympy.cos(phi)*sympy.sin(psi)\n",
    "R[1,1] = sympy.cos(phi)*sympy.cos(theta)*sympy.cos(psi)-\\\n",
    "sympy.sin(phi)*sympy.sin(psi)\n",
    "R[1,2] = -sympy.cos(psi)*sympy.sin(theta)\n",
    "R[2,0] = sympy.sin(phi)*sympy.sin(theta)\n",
    "R[2,1] = sympy.cos(phi)*sympy.sin(theta)\n",
    "R[2,2] = sympy.cos(theta)\n",
    "R"
   ]
  },
  {
   "cell_type": "code",
   "execution_count": 235,
   "metadata": {
    "collapsed": false
   },
   "outputs": [
    {
     "data": {
      "image/png": "[encoded data removed]",
      "text/latex": [
       "$$\\left[\\begin{matrix}0\\\\0\\\\- g\\end{matrix}\\right]$$"
      ],
      "text/plain": [
       "⎡0 ⎤\n",
       "⎢  ⎥\n",
       "⎢0 ⎥\n",
       "⎢  ⎥\n",
       "⎣-g⎦"
      ]
     },
     "execution_count": 235,
     "metadata": {},
     "output_type": "execute_result"
    }
   ],
   "source": [
    "#gravity:\n",
    "G = Matrix([[0],[0],[-g]])\n",
    "G"
   ]
  },
  {
   "cell_type": "code",
   "execution_count": 236,
   "metadata": {
    "collapsed": false
   },
   "outputs": [
    {
     "data": {
      "image/png": "[encoded data removed]",
      "text/latex": [
       "$$\\left[\\begin{matrix}- k_{d} \\dot{x}\\\\- k_{d} \\dot{y}\\\\- k_{d} \\dot{z}\\end{matrix}\\right]$$"
      ],
      "text/plain": [
       "⎡-k_d⋅ẋ⎤\n",
       "⎢       ⎥\n",
       "⎢-k_d⋅ẏ⎥\n",
       "⎢       ⎥\n",
       "⎣-k_d⋅ż⎦"
      ]
     },
     "execution_count": 236,
     "metadata": {},
     "output_type": "execute_result"
    }
   ],
   "source": [
    "# drag force:\n",
    "F_d = -k_d*Matrix([[xdot],[ydot],[zdot]])\n",
    "F_d"
   ]
  },
  {
   "cell_type": "code",
   "execution_count": 237,
   "metadata": {
    "collapsed": false
   },
   "outputs": [
    {
     "data": {
      "image/png": "[encoded data removed]",
      "text/latex": [
       "$$\\left[\\begin{matrix}\\frac{k}{m} \\left(\\Omega_{1}^{2} + \\Omega_{2}^{2} + \\Omega_{3}^{2} + \\Omega_{4}^{2}\\right) \\sin{\\left (\\psi \\right )} \\sin{\\left (\\theta \\right )} - \\frac{k_{d} \\dot{x}}{m}\\\\- \\frac{k}{m} \\left(\\Omega_{1}^{2} + \\Omega_{2}^{2} + \\Omega_{3}^{2} + \\Omega_{4}^{2}\\right) \\sin{\\left (\\theta \\right )} \\cos{\\left (\\psi \\right )} - \\frac{k_{d} \\dot{y}}{m}\\\\- g + \\frac{k}{m} \\left(\\Omega_{1}^{2} + \\Omega_{2}^{2} + \\Omega_{3}^{2} + \\Omega_{4}^{2}\\right) \\cos{\\left (\\theta \\right )} - \\frac{k_{d} \\dot{z}}{m}\\end{matrix}\\right]$$"
      ],
      "text/plain": [
       "⎡   ⎛  2     2     2     2⎞                        ⎤\n",
       "⎢ k⋅⎝Ω₁  + Ω₂  + Ω₃  + Ω₄ ⎠⋅sin(ψ)⋅sin(θ)   k_d⋅ẋ ⎥\n",
       "⎢ ─────────────────────────────────────── - ────── ⎥\n",
       "⎢                    m                        m    ⎥\n",
       "⎢                                                  ⎥\n",
       "⎢    ⎛  2     2     2     2⎞                       ⎥\n",
       "⎢  k⋅⎝Ω₁  + Ω₂  + Ω₃  + Ω₄ ⎠⋅sin(θ)⋅cos(ψ)   k_d⋅ẏ⎥\n",
       "⎢- ─────────────────────────────────────── - ──────⎥\n",
       "⎢                     m                        m   ⎥\n",
       "⎢                                                  ⎥\n",
       "⎢         ⎛  2     2     2     2⎞                  ⎥\n",
       "⎢       k⋅⎝Ω₁  + Ω₂  + Ω₃  + Ω₄ ⎠⋅cos(θ)   k_d⋅ż  ⎥\n",
       "⎢  -g + ──────────────────────────────── - ──────  ⎥\n",
       "⎣                      m                     m     ⎦"
      ]
     },
     "execution_count": 237,
     "metadata": {},
     "output_type": "execute_result"
    }
   ],
   "source": [
    "# calculate the dot_x2:\n",
    "dot_x2 = G+R*T_b/m+F_d/m\n",
    "dot_x2"
   ]
  },
  {
   "cell_type": "code",
   "execution_count": 303,
   "metadata": {
    "collapsed": false
   },
   "outputs": [
    {
     "data": {
      "image/png": "[encoded data removed]",
      "text/latex": [
       "$$\\left[\\begin{matrix}x_{10} + \\frac{x_{11} \\sin{\\left (\\phi \\right )} \\sin{\\left (\\theta \\right )}}{\\left(\\frac{\\sin^{2}{\\left (\\phi \\right )} \\cos{\\left (\\theta \\right )}}{\\cos{\\left (\\phi \\right )}} + \\cos{\\left (\\phi \\right )} \\cos{\\left (\\theta \\right )}\\right) \\cos{\\left (\\phi \\right )}} + \\frac{x_{12} \\sin{\\left (\\theta \\right )}}{\\frac{\\sin^{2}{\\left (\\phi \\right )} \\cos{\\left (\\theta \\right )}}{\\cos{\\left (\\phi \\right )}} + \\cos{\\left (\\phi \\right )} \\cos{\\left (\\theta \\right )}}\\\\\\frac{x_{11}}{\\cos{\\left (\\phi \\right )}} \\left(1 - \\frac{\\sin^{2}{\\left (\\phi \\right )} \\cos{\\left (\\theta \\right )}}{\\left(\\frac{\\sin^{2}{\\left (\\phi \\right )} \\cos{\\left (\\theta \\right )}}{\\cos{\\left (\\phi \\right )}} + \\cos{\\left (\\phi \\right )} \\cos{\\left (\\theta \\right )}\\right) \\cos{\\left (\\phi \\right )}}\\right) - \\frac{x_{12} \\sin{\\left (\\phi \\right )} \\cos{\\left (\\theta \\right )}}{\\left(\\frac{\\sin^{2}{\\left (\\phi \\right )} \\cos{\\left (\\theta \\right )}}{\\cos{\\left (\\phi \\right )}} + \\cos{\\left (\\phi \\right )} \\cos{\\left (\\theta \\right )}\\right) \\cos{\\left (\\phi \\right )}}\\\\\\frac{x_{11} \\sin{\\left (\\phi \\right )}}{\\left(\\frac{\\sin^{2}{\\left (\\phi \\right )} \\cos{\\left (\\theta \\right )}}{\\cos{\\left (\\phi \\right )}} + \\cos{\\left (\\phi \\right )} \\cos{\\left (\\theta \\right )}\\right) \\cos{\\left (\\phi \\right )}} + \\frac{x_{12}}{\\frac{\\sin^{2}{\\left (\\phi \\right )} \\cos{\\left (\\theta \\right )}}{\\cos{\\left (\\phi \\right )}} + \\cos{\\left (\\phi \\right )} \\cos{\\left (\\theta \\right )}}\\end{matrix}\\right]$$"
      ],
      "text/plain": [
       "⎡                       x₁₁⋅sin(φ)⋅sin(θ)                        x₁₂⋅sin(θ)   \n",
       "⎢      x₁₀ + ─────────────────────────────────────── + ───────────────────────\n",
       "⎢            ⎛   2                          ⎞             2                   \n",
       "⎢            ⎜sin (φ)⋅cos(θ)                ⎟          sin (φ)⋅cos(θ)         \n",
       "⎢            ⎜────────────── + cos(φ)⋅cos(θ)⎟⋅cos(φ)   ────────────── + cos(φ)\n",
       "⎢            ⎝    cos(φ)                    ⎠              cos(φ)             \n",
       "⎢                                                                             \n",
       "⎢    ⎛                    2                      ⎞                            \n",
       "⎢    ⎜                 sin (φ)⋅cos(θ)            ⎟                            \n",
       "⎢x₁₁⋅⎜1 - ───────────────────────────────────────⎟                            \n",
       "⎢    ⎜    ⎛   2                          ⎞       ⎟                            \n",
       "⎢    ⎜    ⎜sin (φ)⋅cos(θ)                ⎟       ⎟                            \n",
       "⎢    ⎜    ⎜────────────── + cos(φ)⋅cos(θ)⎟⋅cos(φ)⎟                            \n",
       "⎢    ⎝    ⎝    cos(φ)                    ⎠       ⎠              x₁₂⋅sin(φ)⋅cos\n",
       "⎢───────────────────────────────────────────────── - ─────────────────────────\n",
       "⎢                      cos(φ)                        ⎛   2                    \n",
       "⎢                                                    ⎜sin (φ)⋅cos(θ)          \n",
       "⎢                                                    ⎜────────────── + cos(φ)⋅\n",
       "⎢                                                    ⎝    cos(φ)              \n",
       "⎢                                                                             \n",
       "⎢                        x₁₁⋅sin(φ)                              x₁₂          \n",
       "⎢         ─────────────────────────────────────── + ──────────────────────────\n",
       "⎢         ⎛   2                          ⎞             2                      \n",
       "⎢         ⎜sin (φ)⋅cos(θ)                ⎟          sin (φ)⋅cos(θ)            \n",
       "⎢         ⎜────────────── + cos(φ)⋅cos(θ)⎟⋅cos(φ)   ────────────── + cos(φ)⋅co\n",
       "⎣         ⎝    cos(φ)                    ⎠              cos(φ)                \n",
       "\n",
       "              ⎤\n",
       "───────       ⎥\n",
       "              ⎥\n",
       "              ⎥\n",
       "⋅cos(θ)       ⎥\n",
       "              ⎥\n",
       "              ⎥\n",
       "              ⎥\n",
       "              ⎥\n",
       "              ⎥\n",
       "              ⎥\n",
       "              ⎥\n",
       "              ⎥\n",
       "(θ)           ⎥\n",
       "──────────────⎥\n",
       "      ⎞       ⎥\n",
       "      ⎟       ⎥\n",
       "cos(θ)⎟⋅cos(φ)⎥\n",
       "      ⎠       ⎥\n",
       "              ⎥\n",
       "              ⎥\n",
       "────          ⎥\n",
       "              ⎥\n",
       "              ⎥\n",
       "s(θ)          ⎥\n",
       "              ⎦"
      ]
     },
     "execution_count": 303,
     "metadata": {},
     "output_type": "execute_result"
    }
   ],
   "source": [
    "(x_10,x_11,x_12) = sympy.symbols('x_10 x_11 x_12')\n",
    "x4 = Matrix([[x_10],[x_11],[x_12]])\n",
    "# calculate dot_x3\n",
    "dot_x3 = C.inv('LU')*x4\n",
    "dot_x3"
   ]
  },
  {
   "cell_type": "code",
   "execution_count": 239,
   "metadata": {
    "collapsed": false
   },
   "outputs": [
    {
     "data": {
      "image/png": "[encoded data removed]",
      "text/latex": [
       "$$\\left[\\begin{matrix}\\frac{1}{I_{xx}} \\left(-  I_{zz} \\omega_{y} \\omega_{z} + I_{yy} \\omega_{y} \\omega_{z} + k l \\left(\\Omega_{1}^{2} - \\Omega_{3}^{2}\\right)\\right)\\\\\\frac{1}{I_{yy}} \\left( I_{zz} \\omega_{x} \\omega_{z} - I_{xx} \\omega_{x} \\omega_{z} + k l \\left(\\Omega_{2}^{2} - \\Omega_{4}^{2}\\right)\\right)\\\\\\frac{1}{ I_{zz}} \\left(I_{xx} \\omega_{x} \\omega_{y} - I_{yy} \\omega_{x} \\omega_{y} + b \\left(\\Omega_{1}^{2} - \\Omega_{2}^{2} + \\Omega_{3}^{2} - \\Omega_{4}^{2}\\right)\\right)\\end{matrix}\\right]$$"
      ],
      "text/plain": [
       "⎡                                      ⎛  2     2⎞   ⎤\n",
       "⎢  - I_zz⋅ω_y⋅ω_z + I_yy⋅ω_y⋅ω_z + k⋅l⋅⎝Ω₁  - Ω₃ ⎠   ⎥\n",
       "⎢  ───────────────────────────────────────────────   ⎥\n",
       "⎢                        Iₓₓ                         ⎥\n",
       "⎢                                                    ⎥\n",
       "⎢                                    ⎛  2     2⎞     ⎥\n",
       "⎢     I_zz⋅ωₓ⋅ω_z - Iₓₓ⋅ωₓ⋅ω_z + k⋅l⋅⎝Ω₂  - Ω₄ ⎠     ⎥\n",
       "⎢    ───────────────────────────────────────────     ⎥\n",
       "⎢                        I_yy                        ⎥\n",
       "⎢                                                    ⎥\n",
       "⎢                             ⎛  2     2     2     2⎞⎥\n",
       "⎢Iₓₓ⋅ωₓ⋅ω_y - I_yy⋅ωₓ⋅ω_y + b⋅⎝Ω₁  - Ω₂  + Ω₃  - Ω₄ ⎠⎥\n",
       "⎢────────────────────────────────────────────────────⎥\n",
       "⎣                        I_zz                        ⎦"
      ]
     },
     "execution_count": 239,
     "metadata": {},
     "output_type": "execute_result"
    }
   ],
   "source": [
    "dot_x4 = zeros(3,1)\n",
    "tau_phi = l*k*((Omega_1)**2-(Omega_3)**2)\n",
    "tau_theta = l*k*((Omega_2)**2-(Omega_4)**2)\n",
    "tau_psi = b*((Omega_1)**2-(Omega_2)**2+(Omega_3)**2-(Omega_4)**2)\n",
    "\n",
    "dot_x4[0] = 1/I_xx*(-I_zz*omega_y*omega_z+I_yy*omega_y*omega_z +tau_phi )\n",
    "dot_x4[1] = 1/I_yy*(I_zz*omega_x*omega_z - I_xx*omega_x*omega_z+tau_theta)\n",
    "dot_x4[2] = 1/I_zz*(I_xx*omega_x*omega_y-I_yy*omega_x*omega_y+tau_psi)\n",
    "#calculate the dot_x4:\n",
    "dot_x4"
   ]
  },
  {
   "cell_type": "code",
   "execution_count": 240,
   "metadata": {
    "collapsed": false
   },
   "outputs": [],
   "source": [
    "f4 = dot_x2[0] #f4\n",
    "f5 = dot_x2[1] #f5\n",
    "f6 = dot_x2[2] #f6\n",
    "# for some obvious value,directly put into matrix A\n",
    "f4_4 = -0.534/0.468 # paritial f4 w.r.t x4\n",
    "f4_7 = f4_8 = f4_9 =f4_10 = f4_11 = f4_12 = 0 "
   ]
  },
  {
   "cell_type": "code",
   "execution_count": 241,
   "metadata": {
    "collapsed": false
   },
   "outputs": [],
   "source": [
    "f5_8 = sympy.diff(f_5,theta) # paritial f5 w.r.t x8(theta)\n",
    "f5_9 = sympy.diff(f_5,psi) # paritial f5 w.r.t x9(psi)"
   ]
  },
  {
   "cell_type": "code",
   "execution_count": 242,
   "metadata": {
    "collapsed": false
   },
   "outputs": [],
   "source": [
    "f7 = dot_x3[0]\n",
    "f8 = dot_x3[1]\n",
    "f9 = dot_x3[2]"
   ]
  },
  {
   "cell_type": "code",
   "execution_count": 243,
   "metadata": {
    "collapsed": true
   },
   "outputs": [],
   "source": [
    "f7_7 = sympy.diff(f7,phi) # paritial f7 w.r.t x7(phi)\n",
    "f7_8 = sympy.diff(f7,theta) # paritial f7 w.r.t x8(theta)\n",
    "f7_9 = sympy.diff(f7,psi) # paritial f7 w.r.t x9(psi)\n",
    "\n",
    "f7_10 = sympy.diff(f7,x_10) \n",
    "f7_11 = sympy.diff(f7,x_11) \n",
    "f7_12 = sympy.diff(f7,x_12) "
   ]
  },
  {
   "cell_type": "code",
   "execution_count": 244,
   "metadata": {
    "collapsed": false
   },
   "outputs": [
    {
     "data": {
      "image/png": "[encoded data removed]",
      "text/latex": [
       "$$0.0$$"
      ],
      "text/plain": [
       "0.0"
      ]
     },
     "execution_count": 244,
     "metadata": {},
     "output_type": "execute_result"
    }
   ],
   "source": [
    "f7_7_l = lambdify((x_11,x_12,phi,theta),f7_7) \n",
    "f7_7_l(0,0,0,0) # substitute x_11,x_12,phi,theta with equalibrium\n",
    "\n",
    "f7_8_l = lambdify((x_11,x_12,phi,theta),f7_8)\n",
    "f7_8_l(0,0,0,0)"
   ]
  },
  {
   "cell_type": "code",
   "execution_count": 245,
   "metadata": {
    "collapsed": false
   },
   "outputs": [],
   "source": [
    "f8_7 = sympy.diff(f8,phi) # paritial f8 w.r.t x7(phi)\n",
    "f8_8 = sympy.diff(f8,theta) # paritial f8 w.r.t x8(theta)\n",
    "f8_9= sympy.diff(f8,psi) # paritial f8 w.r.t x9(psi)"
   ]
  },
  {
   "cell_type": "code",
   "execution_count": 246,
   "metadata": {
    "collapsed": false
   },
   "outputs": [
    {
     "data": {
      "image/png": "[encoded data removed]",
      "text/latex": [
       "$$- \\frac{\\sin{\\left (\\phi \\right )} \\cos{\\left (\\theta \\right )}}{\\left(\\frac{\\sin^{2}{\\left (\\phi \\right )} \\cos{\\left (\\theta \\right )}}{\\cos{\\left (\\phi \\right )}} + \\cos{\\left (\\phi \\right )} \\cos{\\left (\\theta \\right )}\\right) \\cos{\\left (\\phi \\right )}}$$"
      ],
      "text/plain": [
       "            -sin(φ)⋅cos(θ)             \n",
       "───────────────────────────────────────\n",
       "⎛   2                          ⎞       \n",
       "⎜sin (φ)⋅cos(θ)                ⎟       \n",
       "⎜────────────── + cos(φ)⋅cos(θ)⎟⋅cos(φ)\n",
       "⎝    cos(φ)                    ⎠       "
      ]
     },
     "execution_count": 246,
     "metadata": {},
     "output_type": "execute_result"
    }
   ],
   "source": [
    "f8_7_l = lambdify((x_10,x_11,x_12,phi,theta),f8_7)\n",
    "f8_7_l(0,0,0,0,0)\n",
    "\n",
    "f8_8_l = lambdify((x_10,x_11,x_12,phi,theta),f8_8)\n",
    "f8_8_l(0,0,0,0,0)\n",
    "\n",
    "f8_10 = sympy.diff(f8,x_10)\n",
    "f8_11 = sympy.diff(f8,x_11)\n",
    "f8_11_l  = lambdify((x_10,x_11,x_12,phi,theta),f8_11)\n",
    "f8_11_l(0,0,0,0,0)\n",
    "f8_12 = sympy.diff(f8,x_12)\n",
    "f8_12"
   ]
  },
  {
   "cell_type": "code",
   "execution_count": 247,
   "metadata": {
    "collapsed": false
   },
   "outputs": [
    {
     "data": {
      "image/png": "[encoded data removed]",
      "text/latex": [
       "$$1.0$$"
      ],
      "text/plain": [
       "1.0"
      ]
     },
     "execution_count": 247,
     "metadata": {},
     "output_type": "execute_result"
    }
   ],
   "source": [
    "f9_7 = sympy.diff(f9,phi)\n",
    "f9_8 = sympy.diff(f9,theta)\n",
    "f9_9 = sympy.diff(f9,psi)\n",
    "\n",
    "f9_7_l = lambdify((x_10,x_11,x_12,phi,theta),f9_7)\n",
    "f9_7_l(0,0,0,0,0)\n",
    "\n",
    "f9_8_l = lambdify((x_10,x_11,x_12,phi,theta),f9_8)\n",
    "f9_8_l(0,0,0,0,0)\n",
    "\n",
    "f9_10 = sympy.diff(f9,x_10)\n",
    "f9_11 = sympy.diff(f9,x_11)\n",
    "f9_12 = sympy.diff(f9,x_12)\n",
    "f9_12_l = lambdify((x_10,x_11,x_12,phi,theta),f9_12)\n",
    "f9_12_l(0,0,0,0,0)"
   ]
  },
  {
   "cell_type": "code",
   "execution_count": 248,
   "metadata": {
    "collapsed": false
   },
   "outputs": [],
   "source": [
    "f10 = dot_x4[0]\n",
    "f11 = dot_x4[1]\n",
    "f12 = dot_x4[2]\n",
    "\n",
    "f10_10 = sympy.diff(f10,omega_x) #partial deriative w.r.t x10\n",
    "f10_11 = sympy.diff(f10,omega_y)\n",
    "f10_12 = sympy.diff(f10,omega_z)\n",
    "\n",
    "f11_10 = sympy.diff(f11,omega_x)\n",
    "f11_11 = sympy.diff(f11,omega_y)\n",
    "f11_12 = sympy.diff(f11,omega_z)\n",
    "\n",
    "f12_10 = sympy.diff(f12,omega_x)\n",
    "f12_11 = sympy.diff(f12,omega_y)\n",
    "f12_12 = sympy.diff(f12,omega_z)"
   ]
  }
 ],
 "metadata": {
  "anaconda-cloud": {},
  "kernelspec": {
   "display_name": "Python [default]",
   "language": "python",
   "name": "python3"
  },
  "language_info": {
   "codemirror_mode": {
    "name": "ipython",
    "version": 3
   },
   "file_extension": ".py",
   "mimetype": "text/x-python",
   "name": "python",
   "nbconvert_exporter": "python",
   "pygments_lexer": "ipython3",
   "version": "3.5.2"
  }
 },
 "nbformat": 4,
 "nbformat_minor": 1
}
